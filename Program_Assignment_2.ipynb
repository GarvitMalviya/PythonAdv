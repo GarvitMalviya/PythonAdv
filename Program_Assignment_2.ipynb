{
 "cells": [
  {
   "cell_type": "markdown",
   "id": "1d1dcd6d",
   "metadata": {},
   "source": [
    "### 1. Write a function that takes a positive integer num and calculates how many dots exist in a pentagonal shape around the center dot on the Nth iteration.\n"
   ]
  },
  {
   "cell_type": "code",
   "execution_count": 12,
   "id": "85d0e901",
   "metadata": {},
   "outputs": [
    {
     "name": "stdout",
     "output_type": "stream",
     "text": [
      "Enter a number12\n",
      "83.5\n"
     ]
    }
   ],
   "source": [
    "def pent(a):\n",
    "    a = a-1\n",
    "    a= ((5*(a*2)) + (5*a) + 2) / 2 \n",
    "    return a\n",
    "print(pent(int(input(\"Enter a number\"))))"
   ]
  },
  {
   "cell_type": "markdown",
   "id": "f313f398",
   "metadata": {},
   "source": [
    "### 2. Make a function that encrypts a given input with these steps:\n",
    "Input: 'apple'\n",
    "Step 1: Reverse the input: &quot;elppa&quot;\n",
    "Step 2: Replace all vowels using the following chart:"
   ]
  },
  {
   "cell_type": "code",
   "execution_count": 17,
   "id": "ad168793",
   "metadata": {},
   "outputs": [
    {
     "name": "stdout",
     "output_type": "stream",
     "text": [
      "D0t0Sc21nt2stPython\n"
     ]
    }
   ],
   "source": [
    "a = \"DataScientist\"\n",
    "dict={\n",
    "    \"a\": \"0\", \"e\": \"1\",\n",
    "        \"i\": \"2\", \"o\": \"2\",\n",
    "        \"u\": \"3\"\n",
    "}\n",
    "num = a[::-1]\n",
    "for i in dict:\n",
    "    a = a.replace(i,dict[i])\n",
    "print(f'{a}Python')"
   ]
  },
  {
   "cell_type": "markdown",
   "id": "00c5b4bc",
   "metadata": {},
   "source": [
    "### 3. Given the month and year as numbers, return whether that month contains a Friday 13th.(i.e You can check Python;import datetime module)"
   ]
  },
  {
   "cell_type": "code",
   "execution_count": 24,
   "id": "17d7ac5e",
   "metadata": {},
   "outputs": [],
   "source": [
    "import datetime\n",
    "from datetime import datetime\n",
    "import calendar\n",
    "\n",
    "def friday(month, year):\n",
    "    date = f'{month} 13 {year}'.format()\n",
    "    spooky = datetime.strptime(date, '%m %d %Y').weekday()\n",
    "    return (calendar.day_name[spooky]) == \"Friday\""
   ]
  },
  {
   "cell_type": "code",
   "execution_count": 25,
   "id": "acb4f886",
   "metadata": {},
   "outputs": [
    {
     "data": {
      "text/plain": [
       "False"
      ]
     },
     "execution_count": 25,
     "metadata": {},
     "output_type": "execute_result"
    }
   ],
   "source": [
    "friday(2,2019)"
   ]
  },
  {
   "cell_type": "code",
   "execution_count": 26,
   "id": "3ddf783d",
   "metadata": {},
   "outputs": [
    {
     "data": {
      "text/plain": [
       "True"
      ]
     },
     "execution_count": 26,
     "metadata": {},
     "output_type": "execute_result"
    }
   ],
   "source": [
    "friday(3,2020)"
   ]
  },
  {
   "cell_type": "code",
   "execution_count": null,
   "id": "19f2bf9b",
   "metadata": {},
   "outputs": [],
   "source": []
  },
  {
   "cell_type": "markdown",
   "id": "9c9a3a5a",
   "metadata": {},
   "source": [
    "### 5. Given a list of words in the singular form, return a set of those words in the plural form if they appear more than once in the list."
   ]
  },
  {
   "cell_type": "code",
   "execution_count": 27,
   "id": "feefee73",
   "metadata": {},
   "outputs": [
    {
     "name": "stdout",
     "output_type": "stream",
     "text": [
      "bush - bushes\n",
      "fox - foxes\n",
      "toy - toies\n",
      "cap - caps\n"
     ]
    }
   ],
   "source": [
    "import re\n",
    "def pluralize(noun):\n",
    "    if re.search('[sxz]$', noun):\n",
    "         return re.sub('$', 'es', noun)\n",
    "    elif re.search('[^aeioudgkprt]h$', noun):\n",
    "        return re.sub('$', 'es', noun)\n",
    "    elif re.search('[aeiou]y$', noun):\n",
    "        return re.sub('y$', 'ies', noun)\n",
    "    else:\n",
    "        return noun + 's'\n",
    "List=[\"bush\", \"fox\", \"toy\", \"cap\"]\n",
    "for i in List:\n",
    "     print(i, '-', pluralize(i))"
   ]
  },
  {
   "cell_type": "code",
   "execution_count": null,
   "id": "2d6e4e90",
   "metadata": {},
   "outputs": [],
   "source": []
  }
 ],
 "metadata": {
  "kernelspec": {
   "display_name": "Python 3 (ipykernel)",
   "language": "python",
   "name": "python3"
  },
  "language_info": {
   "codemirror_mode": {
    "name": "ipython",
    "version": 3
   },
   "file_extension": ".py",
   "mimetype": "text/x-python",
   "name": "python",
   "nbconvert_exporter": "python",
   "pygments_lexer": "ipython3",
   "version": "3.9.7"
  }
 },
 "nbformat": 4,
 "nbformat_minor": 5
}
